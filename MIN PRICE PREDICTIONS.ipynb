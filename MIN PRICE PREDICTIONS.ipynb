{
 "cells": [
  {
   "cell_type": "code",
   "execution_count": 1,
   "metadata": {},
   "outputs": [
    {
     "name": "stderr",
     "output_type": "stream",
     "text": [
      "D:\\anaconda Installer\\lib\\site-packages\\h5py\\__init__.py:36: FutureWarning: Conversion of the second argument of issubdtype from `float` to `np.floating` is deprecated. In future, it will be treated as `np.float64 == np.dtype(float).type`.\n",
      "  from ._conv import register_converters as _register_converters\n",
      "Using TensorFlow backend.\n"
     ]
    }
   ],
   "source": [
    "#IMPORTING REQUIRED LIBRARIES\n",
    "from pandas import Series\n",
    "from pandas import concat\n",
    "from pandas import read_csv\n",
    "from pandas import datetime\n",
    "from sklearn.metrics import mean_squared_error\n",
    "from sklearn.preprocessing import MinMaxScaler\n",
    "from keras.layers.core import Dense, Activation, Dropout\n",
    "from keras.models import Sequential\n",
    "from keras.layers import Dense\n",
    "from keras.layers import LSTM\n",
    "from math import sqrt\n",
    "from matplotlib import pyplot as plt\n",
    "import numpy as np\n",
    "import pandas as pd"
   ]
  },
  {
   "cell_type": "code",
   "execution_count": 2,
   "metadata": {},
   "outputs": [
    {
     "data": {
      "text/plain": [
       "(799, 12)"
      ]
     },
     "execution_count": 2,
     "metadata": {},
     "output_type": "execute_result"
    }
   ],
   "source": [
    "#LOADING THE DATASET\n",
    "df=pd.read_csv(\"abohar_mango.csv\")\n",
    "df.shape"
   ]
  },
  {
   "cell_type": "code",
   "execution_count": 3,
   "metadata": {},
   "outputs": [],
   "source": [
    "#CHANGING TO DATETIME INDEX\n",
    "df['priceDate']=pd.to_datetime(df['priceDate'])\n",
    "\n",
    "df=df.set_index('priceDate')\n",
    "df.drop(['origin','itemName','minPrice','arrivals','modalPrice','state','mandiName','unitArrivals','variety','priceUnit'],axis=1,inplace=True)\n",
    "\n"
   ]
  },
  {
   "cell_type": "code",
   "execution_count": 4,
   "metadata": {},
   "outputs": [
    {
     "data": {
      "text/plain": [
       "False"
      ]
     },
     "execution_count": 4,
     "metadata": {},
     "output_type": "execute_result"
    }
   ],
   "source": [
    "df.replace(\"NULL\",np.nan)\n",
    "df=df.fillna(df.mean())\n",
    "df.isnull().values.any()"
   ]
  },
  {
   "cell_type": "code",
   "execution_count": 5,
   "metadata": {},
   "outputs": [],
   "source": [
    "#SCALING OF VALUES\n",
    "values=df.values\n",
    "\n",
    "scaler = MinMaxScaler(feature_range=(-1, 1))\n",
    "df=scaler.fit_transform(values)\n"
   ]
  },
  {
   "cell_type": "code",
   "execution_count": 6,
   "metadata": {},
   "outputs": [],
   "source": [
    "def window_data(df,window_size):\n",
    "    datax=[]\n",
    "    datay=[]\n",
    "    for i in range(len(df)-window_size):\n",
    "        datax.append(df[i:(i+window_size),0])\n",
    "        datay.append(df[i+window_size,0])\n",
    "       \n",
    "    \n",
    "    return np.array(datax),np.array(datay)\n"
   ]
  },
  {
   "cell_type": "code",
   "execution_count": 7,
   "metadata": {},
   "outputs": [
    {
     "data": {
      "image/png": "[encoded data removed]",
      "text/plain": [
       "<Figure size 432x288 with 1 Axes>"
      ]
     },
     "metadata": {},
     "output_type": "display_data"
    }
   ],
   "source": [
    "plt.plot(df)\n",
    "plt.show()"
   ]
  },
  {
   "cell_type": "code",
   "execution_count": 8,
   "metadata": {},
   "outputs": [
    {
     "name": "stdout",
     "output_type": "stream",
     "text": [
      "(639, 1)\n",
      "(160, 1)\n"
     ]
    }
   ],
   "source": [
    "#DIVIDING INTO TEST AND TRAIN\n",
    "window_size=50\n",
    "train_size=int(len(df)*0.80)\n",
    "test_size=len(df)-train_size\n",
    "train,test=df[0:train_size,:],df[train_size:len(df),:]\n",
    "print(train.shape)\n",
    "print(test.shape)"
   ]
  },
  {
   "cell_type": "code",
   "execution_count": 9,
   "metadata": {},
   "outputs": [],
   "source": [
    "trainx,trainy=window_data(train,window_size)\n",
    "testx,testy=window_data(test,window_size)\n"
   ]
  },
  {
   "cell_type": "code",
   "execution_count": 10,
   "metadata": {},
   "outputs": [
    {
     "name": "stdout",
     "output_type": "stream",
     "text": [
      "(589, 50, 1) (589,) (110, 50, 1) (110,)\n"
     ]
    }
   ],
   "source": [
    "#RESHAPING AND CHECKING OF SIZE\n",
    "trainx=np.reshape(trainx,(trainx.shape[0],trainx.shape[1],1))\n",
    "testx=np.reshape(testx,(testx.shape[0],testx.shape[1],1))\n",
    "\n",
    "print(trainx.shape, trainy.shape, testx.shape, testy.shape)"
   ]
  },
  {
   "cell_type": "code",
   "execution_count": 11,
   "metadata": {},
   "outputs": [
    {
     "name": "stdout",
     "output_type": "stream",
     "text": [
      "_________________________________________________________________\n",
      "Layer (type)                 Output Shape              Param #   \n",
      "=================================================================\n",
      "lstm_1 (LSTM)                (1, 50, 32)               4352      \n",
      "_________________________________________________________________\n",
      "dropout_1 (Dropout)          (1, 50, 32)               0         \n",
      "_________________________________________________________________\n",
      "lstm_2 (LSTM)                (1, 32)                   8320      \n",
      "_________________________________________________________________\n",
      "dropout_2 (Dropout)          (1, 32)                   0         \n",
      "_________________________________________________________________\n",
      "dense_1 (Dense)              (1, 1)                    33        \n",
      "=================================================================\n",
      "Total params: 12,705\n",
      "Trainable params: 12,705\n",
      "Non-trainable params: 0\n",
      "_________________________________________________________________\n"
     ]
    }
   ],
   "source": [
    "#FIT THE LSTM MODEL\n",
    "model = Sequential()\n",
    "model.add(LSTM(32,batch_input_shape=(1, 50, 1), return_sequences=True, stateful=True))\n",
    "model.add(Dropout(0.2))\n",
    "model.add(LSTM(32,batch_input_shape=(1,50,1),stateful=True))\n",
    "model.add(Dropout(0.2))\n",
    "model.add(Dense(1))\n",
    "\n",
    "model.compile(loss=\"mse\", optimizer=\"adam\")\n",
    "\n",
    "model.summary()\n"
   ]
  },
  {
   "cell_type": "code",
   "execution_count": 12,
   "metadata": {},
   "outputs": [
    {
     "name": "stdout",
     "output_type": "stream",
     "text": [
      "Train on 589 samples, validate on 110 samples\n",
      "Epoch 1/5\n",
      "589/589 [==============================] - 26s 43ms/step - loss: 0.0251 - val_loss: 0.0402\n",
      "Epoch 2/5\n",
      "589/589 [==============================] - 24s 42ms/step - loss: 0.0156 - val_loss: 0.0358\n",
      "Epoch 3/5\n",
      "589/589 [==============================] - 23s 40ms/step - loss: 0.0128 - val_loss: 0.0335\n",
      "Epoch 4/5\n",
      "589/589 [==============================] - 24s 41ms/step - loss: 0.0118 - val_loss: 0.0321\n",
      "Epoch 5/5\n",
      "589/589 [==============================] - 24s 41ms/step - loss: 0.0109 - val_loss: 0.0319\n",
      "> Compilation Time :  123.00617361068726\n"
     ]
    }
   ],
   "source": [
    "import time\n",
    "start = time.time()\n",
    "model.fit(trainx,trainy,batch_size=1,epochs=5,validation_data=(testx, testy))\n",
    "print(\"> Compilation Time : \", time.time() - start)"
   ]
  },
  {
   "cell_type": "code",
   "execution_count": 13,
   "metadata": {},
   "outputs": [
    {
     "name": "stdout",
     "output_type": "stream",
     "text": [
      "Train_MSE: 0.006099002250519352\n",
      "Train_RMSE: 0.0780961090613313\n",
      "Test_MSE: 0.03194571096837341\n",
      "test_RMSE: 0.17873363132990225\n"
     ]
    }
   ],
   "source": [
    "#EVALUATE THE MODEL\n",
    "import math\n",
    "trainScore=model.evaluate(trainx,trainy,batch_size=1,verbose=0)\n",
    "print('Train_MSE:',trainScore)\n",
    "print('Train_RMSE:',math.sqrt(trainScore))\n",
    "testScore=model.evaluate(testx,testy,batch_size=1,verbose=0)\n",
    "print('Test_MSE:',testScore)\n",
    "print('test_RMSE:',math.sqrt(testScore))"
   ]
  },
  {
   "cell_type": "code",
   "execution_count": 14,
   "metadata": {},
   "outputs": [],
   "source": [
    "#MAKING PREDICTIONS\n",
    "look_ahead=7\n",
    "trainPredict=[np.vstack([testx[-1][1:],testy[-1]])]\n",
    "predictions=np.zeros((look_ahead,1))\n",
    "for i in range(look_ahead):\n",
    "    prediction=model.predict(np.array([trainPredict[-1]]),batch_size=32)\n",
    "    predictions[i]=prediction\n",
    "    trainPredict.append(np.vstack([trainPredict[-1][1:],prediction]))\n",
    "    "
   ]
  },
  {
   "cell_type": "code",
   "execution_count": 15,
   "metadata": {},
   "outputs": [],
   "source": [
    "#RESETTING THE STATES\n",
    "model.reset_states()"
   ]
  },
  {
   "cell_type": "code",
   "execution_count": 16,
   "metadata": {},
   "outputs": [
    {
     "data": {
      "text/plain": [
       "array([[4187.92885542],\n",
       "       [4260.75845957],\n",
       "       [4302.1132946 ],\n",
       "       [4326.97409391],\n",
       "       [4343.11556816],\n",
       "       [4354.55399752],\n",
       "       [4363.38722706]])"
      ]
     },
     "execution_count": 16,
     "metadata": {},
     "output_type": "execute_result"
    }
   ],
   "source": [
    "#GETTING THE PREDICTED VALUES\n",
    "predicted=scaler.inverse_transform(predictions)\n",
    "predicted\n"
   ]
  },
  {
   "cell_type": "code",
   "execution_count": 17,
   "metadata": {},
   "outputs": [],
   "source": [
    "predicted=pd.DataFrame(predicted)"
   ]
  },
  {
   "cell_type": "code",
   "execution_count": 18,
   "metadata": {},
   "outputs": [],
   "source": [
    "predicted.to_csv('maxprice_abohar_mango_7days.csv')"
   ]
  },
  {
   "cell_type": "code",
   "execution_count": null,
   "metadata": {},
   "outputs": [],
   "source": []
  }
 ],
 "metadata": {
  "kernelspec": {
   "display_name": "Python 3",
   "language": "python",
   "name": "python3"
  },
  "language_info": {
   "codemirror_mode": {
    "name": "ipython",
    "version": 3
   },
   "file_extension": ".py",
   "mimetype": "text/x-python",
   "name": "python",
   "nbconvert_exporter": "python",
   "pygments_lexer": "ipython3",
   "version": "3.6.5"
  }
 },
 "nbformat": 4,
 "nbformat_minor": 2
}
